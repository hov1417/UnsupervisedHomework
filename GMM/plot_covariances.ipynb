{
 "cells": [
  {
   "cell_type": "code",
   "execution_count": 2,
   "metadata": {},
   "outputs": [],
   "source": [
    "from matplotlib import patches\n",
    "import matplotlib.pyplot as plt\n",
    "import numpy as np\n",
    "import pandas as pd\n",
    "import argparse\n",
    "from gmm import GMM"
   ]
  },
  {
   "cell_type": "code",
   "execution_count": 418,
   "metadata": {},
   "outputs": [],
   "source": [
    "import scipy.stats as st\n",
    "\n",
    "class GMM:\n",
    "    def __init__(self, k):\n",
    "        self.k = k\n",
    "        self.means = []\n",
    "        self.covariances = []\n",
    "        self.pis = []\n",
    "        self.gammas = []\n",
    "\n",
    "    def fit(self, data):\n",
    "        \"\"\"\n",
    "        :params data: np.array of shape (..., dim)\n",
    "                                  where dim is number of dimensions of point\n",
    "        \"\"\"\n",
    "        \n",
    "#         data = self._normalize(np.array(data, np.float), True)\n",
    "        data = np.array(data, np.float)\n",
    "#         print(data)\n",
    "        \n",
    "        self._initialize_params(data)\n",
    "        for i in range(100):  # TODO: fix\n",
    "            self._E_step(data)\n",
    "\n",
    "#             print(self.means)\n",
    "#             print(self.covariances)\n",
    "#             print(self.pis)\n",
    "#             print(self.gammas)\n",
    "#             print(\"--------------------\")\n",
    "            self._M_step(data)\n",
    "            \n",
    "#             print(self.means)\n",
    "#             print(self.covariances)\n",
    "#             print(self.pis)\n",
    "#             print(self.gammas)\n",
    "            \n",
    "#             break\n",
    "\n",
    "#     def _normalize(self, data, training):\n",
    "#         if training:\n",
    "#             self.norm_coef = (data.max(axis=0) - data.min(axis=0))[None]\n",
    "#         return data/self.norm_coef\n",
    "        \n",
    "    def _initialize_params(self, data):\n",
    "        self.pis = np.ones(self.k, np.float)/self.k\n",
    "        self.means = data[np.random.choice(data.shape[0], self.k)]\n",
    "        self.covariances = np.array([np.identity(data.shape[-1])] * self.k) \n",
    "\n",
    "    def _E_step(self, data):\n",
    "        normalpdfs = [st.multivariate_normal(self.means[i], self.covariances[i]).pdf\n",
    "                      for i in range(self.k)]\n",
    "        self.gammas = np.zeros((data.shape[0], self.k), np.float)\n",
    "        for i in range(data.shape[0]):\n",
    "#             print(np.array([pdf(data[i]) for pdf in normalpdfs]))\n",
    "#             print([normalpdfs[i](self.means[i]) for i in range(len(normalpdfs))])\n",
    "            \n",
    "            self.gammas[i] = self.pis * np.array([pdf(data[i]) for pdf in normalpdfs])\n",
    "#             print(self.gammas[i])\n",
    "            self.gammas[i] /= self.gammas[i].sum()\n",
    "\n",
    "    def _M_step(self, data):\n",
    "        gammaSums = self.gammas.sum(axis=0)[None].T\n",
    "        self.means = self.gammas.T.dot(data) /gammaSums\n",
    "        \n",
    "        self.covariances = np.zeros_like(self.covariances)\n",
    "        for j in range(self.k):\n",
    "            for i in range(data.shape[0]):\n",
    "                a = (data[i] - self.means[j])[None]\n",
    "#                 print(a.shape)\n",
    "                self.covariances[j] += self.gammas[i,j] * (a.T.dot(a))\n",
    "        \n",
    "        \n",
    "#         self.covariances = np.array([np.sum([self.gammas[i,j]*(data[i] - self.means[j])[None].T.dot(\n",
    "#             (data[i] - self.means[j])[None]) for i in range(data.shape[0])]) for j in range(self.k)])/gammaSums\n",
    "        self.pis = (gammaSums/data.shape[0]).T[0]\n",
    "        \n",
    "    def predict(self, data):\n",
    "        \"\"\"\n",
    "        :param data: np.array of shape (..., dim)\n",
    "        :return: np.array of shape (...) without dims\n",
    "                         each element is integer from 0 to k-1\n",
    "        \"\"\"\n",
    "        data = self._normalize(data, False)\n",
    "\n",
    "        normalpdfs = [st.multivariate_normal(self.means[i], self.covariances[i]).pdf\n",
    "                      for i in range(self.k)]\n",
    "        return np.array([self._pred(d) for d in data])\n",
    "\n",
    "    def _pred(self, x, normalpdfs):\n",
    "        return np.argmax([pdf(x) for pdf in normalpdfs])\n",
    "        \n",
    "        \n",
    "    def get_means(self):\n",
    "        return self.means.copy() #* self.norm_coef\n",
    "\n",
    "    def get_covariances(self):\n",
    "        return self.covariances.copy()\n",
    "\n",
    "    def get_pis(self):\n",
    "        return self.pis.copy()"
   ]
  },
  {
   "cell_type": "code",
   "execution_count": 419,
   "metadata": {},
   "outputs": [],
   "source": [
    "x=np.array([1,2,3])"
   ]
  },
  {
   "cell_type": "code",
   "execution_count": 420,
   "metadata": {},
   "outputs": [
    {
     "data": {
      "text/plain": [
       "array([[1, 2, 3],\n",
       "       [2, 4, 6],\n",
       "       [3, 6, 9]])"
      ]
     },
     "execution_count": 420,
     "metadata": {},
     "output_type": "execute_result"
    }
   ],
   "source": [
    "x[None].T.dot(x[None])"
   ]
  },
  {
   "cell_type": "code",
   "execution_count": 421,
   "metadata": {},
   "outputs": [
    {
     "name": "stdout",
     "output_type": "stream",
     "text": [
      "0.15915494309189535\n"
     ]
    }
   ],
   "source": [
    "x=np.linspace(-10,10,100)\n",
    "n = st.multivariate_normal((1,2),[[1,1],[0,1]])\n",
    "print(n.pdf((1,2)))"
   ]
  },
  {
   "cell_type": "code",
   "execution_count": 422,
   "metadata": {},
   "outputs": [
    {
     "data": {
      "text/plain": [
       "array([23, 35])"
      ]
     },
     "execution_count": 422,
     "metadata": {},
     "output_type": "execute_result"
    }
   ],
   "source": [
    "a=np.array([[1,2],[2,3],[2,3],[2,3],[2,3],[2,3],[2,3],[2,3],[2,3],[2,3],[2,3],[2,3]])\n",
    "m=np.array([[2,3],[3,4]])\n",
    "a.sum(axis=0)"
   ]
  },
  {
   "cell_type": "code",
   "execution_count": 423,
   "metadata": {},
   "outputs": [],
   "source": [
    "def get_ellipse_from_covariance(matrix, std_multiplier=2):\n",
    "    values, vectors = np.linalg.eig(matrix)\n",
    "    maxI = np.argmax(values)\n",
    "    large, small = values[maxI], values[1 - maxI]\n",
    "    return (std_multiplier * np.sqrt(large),\n",
    "            std_multiplier * np.sqrt(small),\n",
    "            np.rad2deg(np.arccos(vectors[0, 0])))"
   ]
  },
  {
   "cell_type": "code",
   "execution_count": 426,
   "metadata": {},
   "outputs": [],
   "source": [
    "def run_gmm(dataPath, name, k):\n",
    "    df = pd.read_csv(dataPath)\n",
    "    global data\n",
    "    data = np.array(df[['X', 'Y']], np.float)[:1000]/100000\n",
    "    plt.clf()\n",
    "    plt.scatter(data[:, 0], data[:, 1], s=3, color='blue')\n",
    "\n",
    "    global gmm\n",
    "\n",
    "    gmm = GMM(k)\n",
    "    gmm.fit(data)\n",
    "    mean = gmm.get_means()\n",
    "    sigma = gmm.get_covariances()\n",
    "    pi = gmm.get_pis()\n",
    "\n",
    "    # Plot ellipses for each of covariance matrices.\n",
    "    for k in range(len(sigma)):\n",
    "#         print(sigma[k])\n",
    "        h, w, angle = get_ellipse_from_covariance(sigma[k])\n",
    "        e = patches.Ellipse(mean[k], w, h, angle=angle)\n",
    "        e.set_alpha(np.power(pi[k], .3))\n",
    "        e.set_facecolor('red')\n",
    "        plt.axes().add_artist(e)\n",
    "    plt.savefig('covariances_{}_{}'.format(dataPath, name).replace('.','_'))\n",
    "    plt.show()"
   ]
  },
  {
   "cell_type": "code",
   "execution_count": 427,
   "metadata": {},
   "outputs": [
    {
     "name": "stderr",
     "output_type": "stream",
     "text": [
      "/home/hov/anaconda3/lib/python3.6/site-packages/matplotlib/cbook/deprecation.py:106: MatplotlibDeprecationWarning: Adding an axes using the same arguments as a previous axes currently reuses the earlier instance.  In a future version, a new instance will always be created and returned.  Meanwhile, this warning can be suppressed, and the future behavior ensured, by passing a unique label to each axes instance.\n",
      "  warnings.warn(message, mplDeprecation, stacklevel=1)\n"
     ]
    },
    {
     "data": {
      "image/png": "[encoded data removed]",
      "text/plain": [
       "<matplotlib.figure.Figure at 0x7fe5c66b87f0>"
      ]
     },
     "metadata": {},
     "output_type": "display_data"
    }
   ],
   "source": [
    "run_gmm(\"sparse_clusters.csv\", \"hov\", 15)"
   ]
  },
  {
   "cell_type": "code",
   "execution_count": 417,
   "metadata": {},
   "outputs": [
    {
     "data": {
      "text/plain": [
       "(100, 15)"
      ]
     },
     "execution_count": 417,
     "metadata": {},
     "output_type": "execute_result"
    }
   ],
   "source": [
    "gmm.gammas.shape"
   ]
  },
  {
   "cell_type": "code",
   "execution_count": 399,
   "metadata": {},
   "outputs": [
    {
     "data": {
      "text/plain": [
       "array([[0.06198979],\n",
       "       [0.07026803],\n",
       "       [0.06730529],\n",
       "       [0.07027997],\n",
       "       [0.07006088],\n",
       "       [0.06952491],\n",
       "       [0.06418081],\n",
       "       [0.06256024],\n",
       "       [0.06970543],\n",
       "       [0.06460767],\n",
       "       [0.066656  ],\n",
       "       [0.05675416],\n",
       "       [0.07022885],\n",
       "       [0.06617254],\n",
       "       [0.06970543]])"
      ]
     },
     "execution_count": 399,
     "metadata": {},
     "output_type": "execute_result"
    }
   ],
   "source": [
    "gmm.pis"
   ]
  },
  {
   "cell_type": "code",
   "execution_count": 400,
   "metadata": {},
   "outputs": [
    {
     "data": {
      "text/plain": [
       "0.19221730216322505"
      ]
     },
     "execution_count": 400,
     "metadata": {},
     "output_type": "execute_result"
    }
   ],
   "source": [
    "st.multivariate_normal(gmm.means[1], gmm.covariances[1]).pdf(data[1])"
   ]
  },
  {
   "cell_type": "code",
   "execution_count": null,
   "metadata": {},
   "outputs": [],
   "source": []
  }
 ],
 "metadata": {
  "kernelspec": {
   "display_name": "Python 3",
   "language": "python",
   "name": "python3"
  },
  "language_info": {
   "codemirror_mode": {
    "name": "ipython",
    "version": 3
   },
   "file_extension": ".py",
   "mimetype": "text/x-python",
   "name": "python",
   "nbconvert_exporter": "python",
   "pygments_lexer": "ipython3",
   "version": "3.6.4"
  }
 },
 "nbformat": 4,
 "nbformat_minor": 2
}
