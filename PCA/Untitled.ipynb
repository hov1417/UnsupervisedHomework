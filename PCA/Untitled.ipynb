{
 "cells": [
  {
   "cell_type": "code",
   "execution_count": 1,
   "metadata": {},
   "outputs": [],
   "source": [
    "import numpy as np"
   ]
  },
  {
   "cell_type": "code",
   "execution_count": 13,
   "metadata": {},
   "outputs": [],
   "source": [
    "a=np.array([[1,2],[2,3],[2,4],[3,5],[8,12],[6,13]])"
   ]
  },
  {
   "cell_type": "code",
   "execution_count": 14,
   "metadata": {},
   "outputs": [],
   "source": [
    "import matplotlib.pyplot as plt"
   ]
  },
  {
   "cell_type": "code",
   "execution_count": 15,
   "metadata": {},
   "outputs": [
    {
     "data": {
      "text/plain": [
       "(0.6401433691756273, 8.359856630824371, 1.434823399558499, 13.565176600441498)"
      ]
     },
     "execution_count": 15,
     "metadata": {},
     "output_type": "execute_result"
    },
    {
     "data": {
      "image/png": "[encoded data removed]",
      "text/plain": [
       "<Figure size 432x288 with 1 Axes>"
      ]
     },
     "metadata": {},
     "output_type": "display_data"
    }
   ],
   "source": [
    "plt.scatter(a[:,0],a[:,1])\n",
    "plt.axis(\"equal\")"
   ]
  },
  {
   "cell_type": "code",
   "execution_count": 22,
   "metadata": {},
   "outputs": [
    {
     "data": {
      "text/plain": [
       "(6, 2)"
      ]
     },
     "execution_count": 22,
     "metadata": {},
     "output_type": "execute_result"
    }
   ],
   "source": [
    "a.shape"
   ]
  },
  {
   "cell_type": "code",
   "execution_count": 39,
   "metadata": {},
   "outputs": [
    {
     "data": {
      "text/plain": [
       "array([[21.9623364 ,  0.        ],\n",
       "       [ 0.        ,  1.62965632],\n",
       "       [ 0.        ,  0.        ],\n",
       "       [ 0.        ,  0.        ],\n",
       "       [ 0.        ,  0.        ],\n",
       "       [ 0.        ,  0.        ]])"
      ]
     },
     "execution_count": 39,
     "metadata": {},
     "output_type": "execute_result"
    }
   ],
   "source": [
    "s*np.eye(6,2)"
   ]
  },
  {
   "cell_type": "code",
   "execution_count": 33,
   "metadata": {},
   "outputs": [],
   "source": [
    "u,s,v = np.linalg.svd(a)"
   ]
  },
  {
   "cell_type": "code",
   "execution_count": 34,
   "metadata": {},
   "outputs": [
    {
     "name": "stdout",
     "output_type": "stream",
     "text": [
      "(array([[-0.10169225,  0.06701379, -0.21740184, -0.25691817, -0.59286901,\n",
      "        -0.72139009],\n",
      "       [-0.16370212, -0.16687248,  0.10937339, -0.12778119, -0.72987153,\n",
      "         0.61996143],\n",
      "       [-0.20338451,  0.13402758,  0.94492476, -0.03265885, -0.02048492,\n",
      "        -0.21517973],\n",
      "       [-0.26539438, -0.09985869, -0.04432299,  0.92886364, -0.19589945,\n",
      "        -0.12831711],\n",
      "       [-0.65480849, -0.66748991, -0.06714149, -0.21922773,  0.25737207,\n",
      "        -0.082909  ],\n",
      "       [-0.64983591,  0.70298279, -0.20351559, -0.07582847,  0.10371729,\n",
      "         0.16000833]]), array([21.9623364 ,  1.62965632]), array([[-0.49036368, -0.87151791],\n",
      "       [-0.87151791,  0.49036368]]))\n"
     ]
    }
   ],
   "source": [
    "print((u,s,v))"
   ]
  },
  {
   "cell_type": "code",
   "execution_count": 44,
   "metadata": {},
   "outputs": [
    {
     "data": {
      "text/plain": [
       "array([[118, 205],\n",
       "       [205, 367]])"
      ]
     },
     "execution_count": 44,
     "metadata": {},
     "output_type": "execute_result"
    }
   ],
   "source": [
    "a.T.dot(a)"
   ]
  },
  {
   "cell_type": "code",
   "execution_count": 38,
   "metadata": {},
   "outputs": [
    {
     "data": {
      "text/plain": [
       "(-0.5148818600368836,\n",
       " 0.024518183811280174,\n",
       " -0.9150938040468632,\n",
       " 0.043575895430803015)"
      ]
     },
     "execution_count": 38,
     "metadata": {},
     "output_type": "execute_result"
    },
    {
     "data": {
      "image/png": "[encoded data removed]",
      "text/plain": [
       "<Figure size 432x288 with 1 Axes>"
      ]
     },
     "metadata": {},
     "output_type": "display_data"
    }
   ],
   "source": [
    "plt.plot([0,v[0][0]],[0, v[0][1]])\n",
    "plt.axis(\"equal\")"
   ]
  },
  {
   "cell_type": "code",
   "execution_count": 2,
   "metadata": {},
   "outputs": [],
   "source": [
    "class PCA:\n",
    "    def __init__(self, k):\n",
    "        self.k = k\n",
    "\n",
    "    def fit(self, data):\n",
    "        \"\"\"\n",
    "        finds best params for X = Mu + A * Lambda\n",
    "        :param data: data of shape (number of samples, number of features)\n",
    "        HINT! use SVD\n",
    "        \"\"\"\n",
    "        u,s,v = np.linalg.svd(data)\n",
    "        indexes = s.argsort()[-self.k:][::-1]\n",
    "        self.basis = v[indexes]\n",
    "\n",
    "    def transform(self, data):\n",
    "        \"\"\"\n",
    "        for given data returns Lambdas\n",
    "        x_i = mu + A dot lambda_i\n",
    "        where mu is location_, A is matrix_ and lambdas are projection of x_i\n",
    "        on linear space from A's rows as basis\n",
    "        :param data: data of shape (number of samples, number of features)\n",
    "        \"\"\"\n",
    "        # Lemma: x is vector and A dot A.T == I, then x's coordinates in Linear Space(A's rows as basis)\n",
    "        # is A dot x\n",
    "        return np.ones((len(data), self.k))\n"
   ]
  },
  {
   "cell_type": "code",
   "execution_count": null,
   "metadata": {},
   "outputs": [],
   "source": [
    "#!/usr/bin/env python3\n",
    "\"\"\"\n",
    "This is a boilerplate file for you to get started on MNIST dataset and run SVD.\n",
    "\n",
    "This file has code to read labels and data from .gz files you can download from\n",
    "http://yann.lecun.com/exdb/mnist/\n",
    "\n",
    "Files will work if train-images-idx3-ubyte.gz file and\n",
    "train-labels-idx1-ubyte.gz files are in the same directory as this\n",
    "python file.\n",
    "\"\"\"\n",
    "from __future__ import print_function\n",
    "import argparse\n",
    "import gzip\n",
    "import struct\n",
    "import numpy as np\n",
    "import matplotlib.pyplot as plt\n",
    "# TODO: Import you PCA\n",
    "\n",
    "\n",
    "def parse_args(*argument_array):\n",
    "    parser = argparse.ArgumentParser()\n",
    "    parser.add_argument('--mnist-train-data',\n",
    "                        default='train-images-idx3-ubyte.gz',  # noqa\n",
    "                        help='Path to train-images-idx3-ubyte.gz file '\n",
    "                        'downloaded from http://yann.lecun.com/exdb/mnist/')\n",
    "    args = parser.parse_args(*argument_array)\n",
    "    return args\n",
    "\n",
    "\n",
    "def main(args):\n",
    "    # Read data file into numpy matrices\n",
    "    with gzip.open(args.mnist_train_data, 'rb') as in_gzip:\n",
    "        magic, num, rows, columns = struct.unpack('>IIII', in_gzip.read(16))\n",
    "        all_data = [np.array(struct.unpack('>{}B'.format(rows * columns),\n",
    "                                           in_gzip.read(rows * columns)))\n",
    "                    for _ in range(60000)]\n",
    "\n",
    "    # TODO: Use Decompose into 5 components and plot the 5 components.\n",
    "    f, axarr = plt.subplots(1, 5, figsize=(18, 4), sharey=True)\n",
    "    for i in range(5):\n",
    "        # TODO: Plot each of the component in its subplot.\n",
    "        axarr[i].set_aspect('equal')\n",
    "        axarr[i].set_title('Component {}'.format(i + 1))\n",
    "    plt.tight_layout()\n",
    "    name = 'TODO'  # TODO: Remplace name with your name\n",
    "    plt.savefig('comps-{}.png'.format(name), dpi=320)\n",
    "\n",
    "\n",
    "if __name__ == '__main__':\n",
    "    args = parse_args()\n",
    "    main(args)"
   ]
  }
 ],
 "metadata": {
  "kernelspec": {
   "display_name": "Python 3",
   "language": "python",
   "name": "python3"
  },
  "language_info": {
   "codemirror_mode": {
    "name": "ipython",
    "version": 3
   },
   "file_extension": ".py",
   "mimetype": "text/x-python",
   "name": "python",
   "nbconvert_exporter": "python",
   "pygments_lexer": "ipython3",
   "version": "3.6.4"
  }
 },
 "nbformat": 4,
 "nbformat_minor": 2
}
