{
 "cells": [
  {
   "cell_type": "code",
   "execution_count": 1,
   "metadata": {},
   "outputs": [],
   "source": [
    "import argparse\n",
    "import numpy as np\n",
    "import json\n",
    "from k_nn import K_NN"
   ]
  },
  {
   "cell_type": "code",
   "execution_count": 2,
   "metadata": {},
   "outputs": [],
   "source": [
    "train_data=\"train_data.json\"\n",
    "test_data=\"test_data.json\"\n",
    "k=5"
   ]
  },
  {
   "cell_type": "code",
   "execution_count": 3,
   "metadata": {},
   "outputs": [],
   "source": [
    "with open(train_data, 'r') as rfile:\n",
    "    train_data = np.array(json.load(rfile))\n",
    "\n",
    "with open(test_data, 'r') as rfile:\n",
    "    test_data = np.array(json.load(rfile))"
   ]
  },
  {
   "cell_type": "code",
   "execution_count": 4,
   "metadata": {},
   "outputs": [],
   "source": [
    "k_nn_classifier = K_NN(int(k))\n",
    "k_nn_classifier.fit(train_data)\n",
    "\n",
    "answers_train = []\n",
    "correct_answers_train = []\n",
    "for klass, data in enumerate(train_data):\n",
    "    answers_train.extend(k_nn_classifier.predict(data))\n",
    "    correct_answers_train.extend(klass*np.ones(data.shape[0]))"
   ]
  },
  {
   "cell_type": "code",
   "execution_count": 5,
   "metadata": {},
   "outputs": [
    {
     "name": "stdout",
     "output_type": "stream",
     "text": [
      "Accuracy on train data: 99.1%\n"
     ]
    }
   ],
   "source": [
    "answers = np.array(answers_train)\n",
    "correct_answers = np.array(correct_answers_train)\n",
    "num_correct_answers_train = np.sum(correct_answers == answers)\n",
    "\n",
    "print('Accuracy on train data: {}%'.format(\n",
    "    num_correct_answers_train * 100 / len(answers)))"
   ]
  },
  {
   "cell_type": "code",
   "execution_count": 6,
   "metadata": {},
   "outputs": [],
   "source": [
    "answers_test = []\n",
    "correct_answers_test = []\n",
    "for klass, data in enumerate(test_data):\n",
    "    answers_test.extend(k_nn_classifier.predict(data))\n",
    "    correct_answers_test.extend(klass*np.ones(data.shape[0]))"
   ]
  },
  {
   "cell_type": "code",
   "execution_count": 7,
   "metadata": {},
   "outputs": [
    {
     "name": "stdout",
     "output_type": "stream",
     "text": [
      "Accuracy on test data: 99.4%\n"
     ]
    }
   ],
   "source": [
    "answers = np.array(answers_test)\n",
    "correct_answers = np.array(correct_answers_test)\n",
    "num_correct_answers_test = np.sum(correct_answers == answers)\n",
    "\n",
    "print('Accuracy on test data: {}%'.format(\n",
    "    num_correct_answers_test * 100 / len(answers)))"
   ]
  },
  {
   "cell_type": "code",
   "execution_count": 8,
   "metadata": {},
   "outputs": [
    {
     "name": "stdout",
     "output_type": "stream",
     "text": [
      "Overall accuracy: 99.16%\n"
     ]
    }
   ],
   "source": [
    "all_answers = answers_train + answers_test\n",
    "all_correct_answers = correct_answers_train + correct_answers_test\n",
    "\n",
    "answers = np.array(all_answers)\n",
    "correct_answers = np.array(all_correct_answers)\n",
    "num_correct_answers_all = np.sum(correct_answers == answers)\n",
    "print('Overall accuracy: {}%'.format(\n",
    "    num_correct_answers_all * 100 / len(answers)))"
   ]
  }
 ],
 "metadata": {
  "kernelspec": {
   "display_name": "Python 3",
   "language": "python",
   "name": "python3"
  },
  "language_info": {
   "codemirror_mode": {
    "name": "ipython",
    "version": 3
   },
   "file_extension": ".py",
   "mimetype": "text/x-python",
   "name": "python",
   "nbconvert_exporter": "python",
   "pygments_lexer": "ipython3",
   "version": "3.6.4"
  }
 },
 "nbformat": 4,
 "nbformat_minor": 2
}
